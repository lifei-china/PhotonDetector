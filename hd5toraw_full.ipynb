{
 "cells": [
  {
   "cell_type": "code",
   "execution_count": 1,
   "id": "37124857",
   "metadata": {},
   "outputs": [
    {
     "name": "stdout",
     "output_type": "stream",
     "text": [
      "['TSPZ155B0024', 'TSPZ155B0025', '-800V', 'BLR-high', 'Static-off', 'Non-para-off', 'R400us-acc-0', '94cm', '30C', '42%', 'X001-CT', 'NONE', '2025-08-22', 'raw']\n",
      "BLR-high_Static-off_Non-para-off_R400us-acc-0_94cm_30C_42%_X001-CT_NONE_2025-08-22_raw\n",
      "selected_keys 的数量 : 3\n",
      "匹配到的数据集： ['100kV-40mA Threshold Scan Averaged Data', '120kV-40mA Threshold Scan Averaged Data', 'dark Threshold Scan Averaged Data']\n"
     ]
    },
    {
     "name": "stderr",
     "output_type": "stream",
     "text": [
      "Processing conditions: 100%|██████████| 3/3 [00:00<00:00, 86.30it/s]"
     ]
    },
    {
     "name": "stdout",
     "output_type": "stream",
     "text": [
      "已写出: TSPZ155B0024_100kV-40mA Threshold Scan Averaged Data_BLR-high_Static-off_Non-para-off_R400us-acc-0_94cm_30C_42%_X001-CT_NONE_2025-08-22_raw.raw, TSPZ155B0024_100kV-40mA Threshold Scan Averaged Data_BLR-high_Static-off_Non-para-off_R400us-acc-0_94cm_30C_42%_X001-CT_NONE_2025-08-22_raw.raw\n",
      "已写出: TSPZ155B0024_120kV-40mA Threshold Scan Averaged Data_BLR-high_Static-off_Non-para-off_R400us-acc-0_94cm_30C_42%_X001-CT_NONE_2025-08-22_raw.raw, TSPZ155B0024_120kV-40mA Threshold Scan Averaged Data_BLR-high_Static-off_Non-para-off_R400us-acc-0_94cm_30C_42%_X001-CT_NONE_2025-08-22_raw.raw\n",
      "已写出: TSPZ155B0024_dark Threshold Scan Averaged Data_BLR-high_Static-off_Non-para-off_R400us-acc-0_94cm_30C_42%_X001-CT_NONE_2025-08-22_raw.raw, TSPZ155B0024_dark Threshold Scan Averaged Data_BLR-high_Static-off_Non-para-off_R400us-acc-0_94cm_30C_42%_X001-CT_NONE_2025-08-22_raw.raw\n"
     ]
    },
    {
     "name": "stderr",
     "output_type": "stream",
     "text": [
      "\n"
     ]
    }
   ],
   "source": [
    "import os\n",
    "import h5py\n",
    "import numpy as np\n",
    "from tqdm import tqdm\n",
    "\n",
    "# -----------------------\n",
    "# 用户配置\n",
    "# -----------------------\n",
    "\n",
    "file_path = \"h5file/TSPZ155B0024_TSPZ155B0025_-800V_BLR-high_Static-off_Non-para-off_R400us-acc-0_94cm_30C_42%_X001-CT_NONE_2025-08-22_raw.h5\"\n",
    "# file_path = \"TSPZ158B0255_TSPZ158B0256_lab535.h5\"\n",
    "# 取文件名（去掉路径和扩展名）\n",
    "fname = os.path.splitext(os.path.basename(file_path))[0]\n",
    "# parts = fname.split(\"_\")\n",
    "parts = fname.split(\"_\")\n",
    "print(parts)\n",
    "leftcrystal = parts[0]\n",
    "rightcrystal = parts[1]\n",
    "lab = \"_\".join(parts[3:])\n",
    "print(lab)\n",
    "\n",
    "# 指定输出文件夹\n",
    "base_output_dir = \"output_raw\"\n",
    "os.makedirs(base_output_dir, exist_ok=True)\n",
    "# 左右晶体各自的输出目录\n",
    "left_output_dir = os.path.join(base_output_dir, leftcrystal)\n",
    "right_output_dir = os.path.join(base_output_dir, rightcrystal)\n",
    "os.makedirs(left_output_dir, exist_ok=True)\n",
    "os.makedirs(right_output_dir, exist_ok=True)\n",
    "\n",
    "# 内置一个测试条件列表，只保留含有这些关键词的 Averaged Data\n",
    "conditions = [\n",
    "    # \"100kV-10mA-BLR-Nonpara-off-250us\",\n",
    "    # \"100kv-10mA-BLR-Nonpara-off-400us\",\n",
    "    # \"100kv-BLR-Nonpara-on-33.33MHz-400us\",\n",
    "    # \"100kv-BLR-Nonpara-on-40MHz-400us\",\n",
    "    # \"100kv-BLR-Nonpara-on-66.67MHz-400us\",\n",
    "    # \"100kv-BLR-Nonpara-on-80MHz-400us\",\n",
    "\n",
    "    # \"120kv-10mA-BLR-Nonpara-off-250us\",\n",
    "    # \"120kv-10mA-BLR-Nonpara-off-400us\",\n",
    "    # \"120kv-10mA-BLR-Nonpara-on-30.77MHz-400us\",\n",
    "    # \"120kv-10mA-BLR-Nonpara-on-33.33MHz-400us\",\n",
    "    # \"120kv-10mA-BLR-Nonpara-on-40MHz-400us\",\n",
    "    # \"120kv-10mA-BLR-Nonpara-on-66.67MHz-400us\",\n",
    "    # \"120kv-10mA-BLR-nONPARA-ON-80mhZ-400us\",\n",
    "\n",
    "    # \"120kv-10mA-Staticleakage-Nonpara-off-40MHz-400us\",\n",
    "    # \"120kv-10mA-noleakagecomp-Nonpara-off-400us\",\n",
    "    # \"120kv-10mA-noleakagecomp-Nonpara-on-40MHz-400us\",\n",
    "    # \"120kv-10mA-Staticleakage-Nonpara-on-40MHz-400us\",\n",
    "\n",
    "    # \"dark-BLR-Nonpara-off-400us\",\n",
    "    # \"dark-BLR-Nonpara-on-33.33MHz-400us\",\n",
    "    # \"dark-BLR-Nonpara-on-40MHz-400us\",\n",
    "    # \"dark-BLR-Nonpara-on-66.67MHz-400us\",\n",
    "    # \"dark-BLR-Nonpara-on-80MHz-400us\",\n",
    "    \n",
    "    # \"dark-noleakagecomp-Nonpara-off-400us\",\n",
    "    # \"dark-noleakagecomp-Nonpara-on-40MHz-400us\",\n",
    "    # \"dark_Staticleakage_Nonpara-off_400us\",\n",
    "    # \"dark_noleakage_Nonpara-off_400us\",\n",
    "\n",
    "    ## 文件 TSPZ155B0024+TSPZ155B0025_-800V_BLR-high_Static-off_Non-para-off_R400us-acc-0_94cm_30C_42%_X001-CT_NONE_2025-08-22_raw 内的格式\n",
    "    \"100Kv-40mA\",\n",
    "    \"120kV-40mA\",\n",
    "    \"dark\"\n",
    "]\n",
    "\n",
    "nrow, ncol = 24, 36 \n",
    "\n",
    "# -----------------------\n",
    "# 读取数据集\n",
    "# -----------------------\n",
    "with h5py.File(file_path, \"r\") as f:\n",
    "    raw_group = f[\"Raw Data\"]\n",
    "\n",
    "    # 找到所有 Averaged Data 的 key\n",
    "    dataset_keys = [k for k in raw_group.keys() if k.endswith(\"Averaged Data\")]\n",
    "\n",
    "    # 过滤：只保留用户设定的条件\n",
    "    selected_keys = []\n",
    "    for cond in conditions:\n",
    "        for k in dataset_keys:\n",
    "            if cond.lower() in k.lower():   # 全部转小写再匹配\n",
    "                selected_keys.append(k)\n",
    "\n",
    "    print(\"selected_keys 的数量 :\", len(selected_keys))\n",
    "    print(\"匹配到的数据集：\", selected_keys)\n",
    "\n",
    "    # -----------------------\n",
    "    # 数据处理\n",
    "    # -----------------------\n",
    "    for key in tqdm(selected_keys, desc=\"Processing conditions\"):\n",
    "        data = raw_group[key][:]   # (255, 5, 1727)\n",
    "\n",
    "        # 5 通道平均\n",
    "        avg_data = np.mean(data, axis=1)   # (255, 1727)\n",
    "\n",
    "        # 拆分左右晶体\n",
    "        left = avg_data[:, :864].reshape(-1, nrow, ncol).astype(np.uint32)   # (255, 864)\n",
    "        right = avg_data[:, 864:].reshape(-1, nrow, ncol).astype(np.uint32)  # (255, 863)\n",
    " \n",
    "        # 保存为 .raw 文件 \n",
    "        clean_key = key.replace(\"Threshold Scan Averaged Data\", \"\").strip()\n",
    "        left.tofile(os.path.join(left_output_dir, f\"{leftcrystal}_{clean_key}_{lab}.raw\"))\n",
    "        right.tofile(os.path.join(right_output_dir,f\"{rightcrystal}_{clean_key}_{lab}.raw\"))\n",
    "    \n",
    "        print(f\"已写出: {leftcrystal}_{key}_{lab}.raw, {leftcrystal}_{key}_{lab}.raw\")\n"
   ]
  }
 ],
 "metadata": {
  "kernelspec": {
   "display_name": "Python 3",
   "language": "python",
   "name": "python3"
  },
  "language_info": {
   "codemirror_mode": {
    "name": "ipython",
    "version": 3
   },
   "file_extension": ".py",
   "mimetype": "text/x-python",
   "name": "python",
   "nbconvert_exporter": "python",
   "pygments_lexer": "ipython3",
   "version": "3.13.5"
  }
 },
 "nbformat": 4,
 "nbformat_minor": 5
}
