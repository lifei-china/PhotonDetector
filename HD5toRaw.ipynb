{
 "cells": [
  {
   "cell_type": "code",
   "execution_count": 5,
   "id": "5d093df4",
   "metadata": {},
   "outputs": [],
   "source": [
    "import h5py\n",
    "import numpy as np\n",
    "from tqdm import tqdm"
   ]
  },
  {
   "cell_type": "code",
   "execution_count": 8,
   "id": "6a9e77da",
   "metadata": {},
   "outputs": [
    {
     "name": "stdout",
     "output_type": "stream",
     "text": [
      "['20-24', '25-29', '30-34', '35-39', '40-44', '45-49', '50-54', '55-59', '60-64', '65-69', '70-74', '75-79', '80-84', '85-89', '90-94', '95-99', '100-104', '105-109', '110-114', '115-119', '120-124', '125-129', '130-134', '135-139', '140-145', '145-149']\n"
     ]
    }
   ],
   "source": [
    "\n",
    "# file_path = \"/mnt/d/PhotonData/W-kedgescan/W-kedgescan.h5\"\n",
    "\n",
    "file_path = \"W-kedgescan-background.h5\"\n",
    "\n",
    "with h5py.File(file_path, 'r') as f:\n",
    "    raw_data_group = f['Raw Data']\n",
    "\n",
    "    # 自动提取并排序所有数据集名（去掉前缀）\n",
    "    dataset_keys = list(raw_data_group.keys())\n",
    "    \n",
    "    # 只保留以 '100kV-20mA-' 开头的\n",
    "    dataset_names = [key.replace('100kV-20mA-', '') for key in dataset_keys if key.startswith('100kV-20mA-')]\n",
    "\n",
    "    # 按 start energy 排序（例如 '20-24' → 20）\n",
    "    def get_start_energy(name):\n",
    "        return int(name.split('-')[0])\n",
    "    \n",
    "    dataset_names.sort(key=get_start_energy)\n",
    "\n",
    "\n",
    "\n",
    "n_thresh_total = len(dataset_names) * 5  # 175\n",
    "nrow, ncol = 24, 36\n",
    "npix = nrow * ncol\n",
    "\n",
    "print(dataset_names)\n",
    "\n",
    "# 初始化左右晶体的堆栈：175帧 × 每帧864像素\n",
    "left_stack = np.zeros((n_thresh_total, npix), dtype=np.float32)\n",
    "right_stack = np.zeros((n_thresh_total, npix), dtype=np.float32)\n",
    "\n",
    "frame_idx = 0\n"
   ]
  },
  {
   "cell_type": "code",
   "execution_count": 9,
   "id": "70f97bc0",
   "metadata": {},
   "outputs": [
    {
     "name": "stderr",
     "output_type": "stream",
     "text": [
      "Summing and Splitting: 100%|██████████| 26/26 [09:03<00:00, 20.90s/it]\n"
     ]
    }
   ],
   "source": [
    "\n",
    "with h5py.File(file_path, 'r') as f:\n",
    "    raw_data_group = f['Raw Data']\n",
    "\n",
    "    for name in tqdm(dataset_names, desc=\"Summing and Splitting\"):\n",
    "        full_key = '100kV-20mA-' + name\n",
    "        data = raw_data_group[full_key][:]  # (10000, 5, 1728)\n",
    "\n",
    "        # 时间维度上求和\n",
    "        summed = np.sum(data, axis=0)  # (5, 1728)\n",
    "\n",
    "        # 拆分左右两个晶体\n",
    "        left = summed[:, :864]   # (5, 864)\n",
    "        right = summed[:, 864:]  # (5, 864)\n",
    "\n",
    "        # 写入堆栈\n",
    "        for i in range(5):\n",
    "            left_stack[frame_idx] = left[i]\n",
    "            right_stack[frame_idx] = right[i]\n",
    "            frame_idx += 1\n"
   ]
  },
  {
   "cell_type": "code",
   "execution_count": 10,
   "id": "ba746e29",
   "metadata": {},
   "outputs": [
    {
     "name": "stdout",
     "output_type": "stream",
     "text": [
      "写入完成：left_detector_summed.raw 和 right_detector_summed.raw\n"
     ]
    }
   ],
   "source": [
    "\n",
    "# 重塑为 (帧数, 行, 列)\n",
    "left_stack = left_stack.reshape(-1, nrow, ncol).astype(np.uint32)\n",
    "right_stack = right_stack.reshape(-1, nrow, ncol).astype(np.uint32)\n",
    "\n",
    "# 保存为 .raw 文件\n",
    "left_stack.tofile(\"left_detector_summed.raw\")\n",
    "right_stack.tofile(\"right_detector_summed.raw\")\n",
    "\n",
    "print(\"写入完成：left_detector_summed.raw 和 right_detector_summed.raw\")\n"
   ]
  }
 ],
 "metadata": {
  "kernelspec": {
   "display_name": "Python 3",
   "language": "python",
   "name": "python3"
  },
  "language_info": {
   "codemirror_mode": {
    "name": "ipython",
    "version": 3
   },
   "file_extension": ".py",
   "mimetype": "text/x-python",
   "name": "python",
   "nbconvert_exporter": "python",
   "pygments_lexer": "ipython3",
   "version": "3.13.5"
  }
 },
 "nbformat": 4,
 "nbformat_minor": 5
}
