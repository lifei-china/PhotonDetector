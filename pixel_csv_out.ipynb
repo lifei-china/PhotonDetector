{
 "cells": [
  {
   "cell_type": "code",
   "execution_count": 16,
   "id": "19b2ced1",
   "metadata": {},
   "outputs": [
    {
     "name": "stdout",
     "output_type": "stream",
     "text": [
      "已保存: plots\\TSPZ155B0024\\TSPZ155B0024_120kV-40mA_BLR-high_Static-off_Non-para-off_R400us-acc-0_94cm_30C_42__X001-CT_NONE_2025-08-22_raw\\data.csv\n"
     ]
    }
   ],
   "source": [
    "import numpy as np\n",
    "import matplotlib.pyplot as plt\n",
    "from pathlib import Path\n",
    "import pandas as pd\n",
    "import plotly.graph_objects as go\n",
    "from pixel_utils import analyze_and_plot_pixel, make_clickable_map\n",
    "import re\n",
    "# -----------------------\n",
    "# 用户配置\n",
    "# -----------------------\n",
    "input_file = Path(\"output_raw/TSPZ155B0024/TSPZ155B0024_120kV-40mA_BLR-high_Static-off_Non-para-off_R400us-acc-0_94cm_30C_42%_X001-CT_NONE_2025-08-22_raw.raw\")\n",
    "chip_name = input_file.parent.name   # \"TSPZ155B0024\"\n",
    "condition = Path(input_file).stem\n",
    "# 清理掉非字母、数字、下划线、中划线的字符\n",
    "condition = re.sub(r\"[^\\w\\-]\", \"_\", condition)\n",
    "\n",
    "# 主目录\n",
    "condition_dir = Path(\"plots\") / chip_name / condition\n",
    "condition_dir.mkdir(parents=True, exist_ok=True)   # ✅ 确保目录存在\n",
    "pixels_dir = condition_dir / \"pixels\"\n",
    "maps_dir = condition_dir / \"maps\"\n",
    "\n",
    "# 一次性建好\n",
    "pixels_dir.mkdir(parents=True, exist_ok=True)\n",
    "maps_dir.mkdir(parents=True, exist_ok=True)\n",
    "# -----------------------\n",
    "\n",
    "# ---------读取 .raw 数据-------------- \n",
    "n_thresh = 256\n",
    "nrow, ncol = 24, 36             #  晶体布局\n",
    "data = np.fromfile(input_file, dtype=np.uint32)\n",
    "npix = nrow * ncol  \n",
    "data = data.reshape(-1, npix)   # (255, 864)\n",
    "# -----------------------\n",
    "\n",
    "\n",
    "# -------- 数据保存为csv -------------- \n",
    "df = pd.DataFrame({\"Threshold\": np.arange(n_thresh)})                       # 阈值列\n",
    "col_names = [f\"Pix_{pix//ncol}_{pix % ncol}\" for pix in range(npix)]        # 像素列名\n",
    "df_pixels = pd.DataFrame(data, columns=col_names)                           # 拼接成 DataFrame\n",
    "df = pd.concat([df, df_pixels], axis=1)                                     # 合并\n",
    "csv_path = condition_dir / \"data.csv\"\n",
    "# csv_path = condition_dir / f\"{condition}.csv\"                        # 保存为 CSV \n",
    "df.to_csv(csv_path, index=False)\n",
    "print(\"已保存:\", csv_path)\n",
    "# -----------------------\n",
    "\n"
   ]
  }
 ],
 "metadata": {
  "kernelspec": {
   "display_name": "Python 3",
   "language": "python",
   "name": "python3"
  },
  "language_info": {
   "codemirror_mode": {
    "name": "ipython",
    "version": 3
   },
   "file_extension": ".py",
   "mimetype": "text/x-python",
   "name": "python",
   "nbconvert_exporter": "python",
   "pygments_lexer": "ipython3",
   "version": "3.13.5"
  }
 },
 "nbformat": 4,
 "nbformat_minor": 5
}
